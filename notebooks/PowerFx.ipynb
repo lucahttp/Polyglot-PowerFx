{
 "cells": [
  {
   "cell_type": "markdown",
   "metadata": {},
   "source": [
    "# Install .NET and Tools\n",
    "\n",
    "1. [.NET Framework](https://dot.net/learntocode)\n",
    "2. [.NET Interactive Notebooks Extension](https://marketplace.visualstudio.com/items?itemName=ms-dotnettools.dotnet-interactive-vscode)\n",
    "3. [Data Table Extension](https://marketplace.visualstudio.com/items?itemName=RandomFractalsInc.vscode-data-table)"
   ]
  },
  {
   "cell_type": "markdown",
   "metadata": {},
   "source": [
    "# Useful videos to watch regarding .NET Interactive Notebooks\n",
    "\n",
    "1. [Learn C# with Interactive Notebooks](https://www.youtube.com/watch?v=xdmdR2JfKfM)\n",
    "2. [NET Interactive Notebooks with C#/F# in VS Code](https://www.youtube.com/watch?v=DMYtIJT1OeU)\n",
    "3. [.NET Everywhere - Windows, Linux, and Beyond](https://www.youtube.com/watch?v=ZM6OO2lkxA4)"
   ]
  },
  {
   "cell_type": "markdown",
   "metadata": {},
   "source": [
    "# Install Power Fx Magic Command"
   ]
  },
  {
   "cell_type": "code",
   "execution_count": null,
   "metadata": {
    "dotnet_interactive": {
     "language": "csharp"
    }
   },
   "outputs": [
    {
     "data": {
      "text/html": [
       "<div><div></div><div></div><div><strong>Installed Packages</strong><ul><li><span>PowerFx.NET.Interactive, 0.0.9.5</span></li></ul></div></div>"
      ]
     },
     "metadata": {},
     "output_type": "display_data"
    },
    {
     "data": {
      "text/markdown": [
       "Loading extensions from `PowerFXDotNetInteractive.dll`"
      ]
     },
     "metadata": {},
     "output_type": "display_data"
    },
    {
     "data": {
      "text/html": [
       "<details><summary>These are the supported Power Fx functions in 0.2.1.0.</summary>\r\n",
       "            <ol><li><a href=\"https://docs.microsoft.com/en-us/search/?terms=Abs&scope=Power%20Apps\" >Abs</a></li><li><a href=\"https://docs.microsoft.com/en-us/search/?terms=AddColumns&scope=Power%20Apps\" >AddColumns</a></li><li><a href=\"https://docs.microsoft.com/en-us/search/?terms=And&scope=Power%20Apps\" >And</a></li><li><a href=\"https://docs.microsoft.com/en-us/search/?terms=Average&scope=Power%20Apps\" >Average</a></li><li><a href=\"https://docs.microsoft.com/en-us/search/?terms=Average&scope=Power%20Apps\" >Average</a></li><li><a href=\"https://docs.microsoft.com/en-us/search/?terms=Blank&scope=Power%20Apps\" >Blank</a></li><li><a href=\"https://docs.microsoft.com/en-us/search/?terms=Concat&scope=Power%20Apps\" >Concat</a></li><li><a href=\"https://docs.microsoft.com/en-us/search/?terms=Coalesce&scope=Power%20Apps\" >Coalesce</a></li><li><a href=\"https://docs.microsoft.com/en-us/search/?terms=Char&scope=Power%20Apps\" >Char</a></li><li><a href=\"https://docs.microsoft.com/en-us/search/?terms=Concatenate&scope=Power%20Apps\" >Concatenate</a></li><li><a href=\"https://docs.microsoft.com/en-us/search/?terms=CountIf&scope=Power%20Apps\" >CountIf</a></li><li><a href=\"https://docs.microsoft.com/en-us/search/?terms=CountRows&scope=Power%20Apps\" >CountRows</a></li><li><a href=\"https://docs.microsoft.com/en-us/search/?terms=Date&scope=Power%20Apps\" >Date</a></li><li><a href=\"https://docs.microsoft.com/en-us/search/?terms=DateAdd&scope=Power%20Apps\" >DateAdd</a></li><li><a href=\"https://docs.microsoft.com/en-us/search/?terms=DateDiff&scope=Power%20Apps\" >DateDiff</a></li><li><a href=\"https://docs.microsoft.com/en-us/search/?terms=DateValue&scope=Power%20Apps\" >DateValue</a></li><li><a href=\"https://docs.microsoft.com/en-us/search/?terms=DateTimeValue&scope=Power%20Apps\" >DateTimeValue</a></li><li><a href=\"https://docs.microsoft.com/en-us/search/?terms=Day&scope=Power%20Apps\" >Day</a></li><li><a href=\"https://docs.microsoft.com/en-us/search/?terms=EndsWith&scope=Power%20Apps\" >EndsWith</a></li><li><a href=\"https://docs.microsoft.com/en-us/search/?terms=Exp&scope=Power%20Apps\" >Exp</a></li><li><a href=\"https://docs.microsoft.com/en-us/search/?terms=IsBlank&scope=Power%20Apps\" >IsBlank</a></li><li><a href=\"https://docs.microsoft.com/en-us/search/?terms=IsError&scope=Power%20Apps\" >IsError</a></li><li><a href=\"https://docs.microsoft.com/en-us/search/?terms=IsToday&scope=Power%20Apps\" >IsToday</a></li><li><a href=\"https://docs.microsoft.com/en-us/search/?terms=If&scope=Power%20Apps\" >If</a></li><li><a href=\"https://docs.microsoft.com/en-us/search/?terms=IfError&scope=Power%20Apps\" >IfError</a></li><li><a href=\"https://docs.microsoft.com/en-us/search/?terms=Int&scope=Power%20Apps\" >Int</a></li><li><a href=\"https://docs.microsoft.com/en-us/search/?terms=Filter&scope=Power%20Apps\" >Filter</a></li><li><a href=\"https://docs.microsoft.com/en-us/search/?terms=First&scope=Power%20Apps\" >First</a></li><li><a href=\"https://docs.microsoft.com/en-us/search/?terms=FirstN&scope=Power%20Apps\" >FirstN</a></li><li><a href=\"https://docs.microsoft.com/en-us/search/?terms=ForAll&scope=Power%20Apps\" >ForAll</a></li><li><a href=\"https://docs.microsoft.com/en-us/search/?terms=Hour&scope=Power%20Apps\" >Hour</a></li><li><a href=\"https://docs.microsoft.com/en-us/search/?terms=Last&scope=Power%20Apps\" >Last</a></li><li><a href=\"https://docs.microsoft.com/en-us/search/?terms=LastN&scope=Power%20Apps\" >LastN</a></li><li><a href=\"https://docs.microsoft.com/en-us/search/?terms=Left&scope=Power%20Apps\" >Left</a></li><li><a href=\"https://docs.microsoft.com/en-us/search/?terms=Len&scope=Power%20Apps\" >Len</a></li><li><a href=\"https://docs.microsoft.com/en-us/search/?terms=Ln&scope=Power%20Apps\" >Ln</a></li><li><a href=\"https://docs.microsoft.com/en-us/search/?terms=Log&scope=Power%20Apps\" >Log</a></li><li><a href=\"https://docs.microsoft.com/en-us/search/?terms=Lower&scope=Power%20Apps\" >Lower</a></li><li><a href=\"https://docs.microsoft.com/en-us/search/?terms=Max&scope=Power%20Apps\" >Max</a></li><li><a href=\"https://docs.microsoft.com/en-us/search/?terms=Max&scope=Power%20Apps\" >Max</a></li><li><a href=\"https://docs.microsoft.com/en-us/search/?terms=Mid&scope=Power%20Apps\" >Mid</a></li><li><a href=\"https://docs.microsoft.com/en-us/search/?terms=Min&scope=Power%20Apps\" >Min</a></li><li><a href=\"https://docs.microsoft.com/en-us/search/?terms=Min&scope=Power%20Apps\" >Min</a></li><li><a href=\"https://docs.microsoft.com/en-us/search/?terms=Minute&scope=Power%20Apps\" >Minute</a></li><li><a href=\"https://docs.microsoft.com/en-us/search/?terms=Mod&scope=Power%20Apps\" >Mod</a></li><li><a href=\"https://docs.microsoft.com/en-us/search/?terms=Month&scope=Power%20Apps\" >Month</a></li><li><a href=\"https://docs.microsoft.com/en-us/search/?terms=Not&scope=Power%20Apps\" >Not</a></li><li><a href=\"https://docs.microsoft.com/en-us/search/?terms=Now&scope=Power%20Apps\" >Now</a></li><li><a href=\"https://docs.microsoft.com/en-us/search/?terms=Or&scope=Power%20Apps\" >Or</a></li><li><a href=\"https://docs.microsoft.com/en-us/search/?terms=Power&scope=Power%20Apps\" >Power</a></li><li><a href=\"https://docs.microsoft.com/en-us/search/?terms=Replace&scope=Power%20Apps\" >Replace</a></li><li><a href=\"https://docs.microsoft.com/en-us/search/?terms=Right&scope=Power%20Apps\" >Right</a></li><li><a href=\"https://docs.microsoft.com/en-us/search/?terms=Round&scope=Power%20Apps\" >Round</a></li><li><a href=\"https://docs.microsoft.com/en-us/search/?terms=RoundUp&scope=Power%20Apps\" >RoundUp</a></li><li><a href=\"https://docs.microsoft.com/en-us/search/?terms=RoundDown&scope=Power%20Apps\" >RoundDown</a></li><li><a href=\"https://docs.microsoft.com/en-us/search/?terms=Second&scope=Power%20Apps\" >Second</a></li><li><a href=\"https://docs.microsoft.com/en-us/search/?terms=Sequence&scope=Power%20Apps\" >Sequence</a></li><li><a href=\"https://docs.microsoft.com/en-us/search/?terms=Sort&scope=Power%20Apps\" >Sort</a></li><li><a href=\"https://docs.microsoft.com/en-us/search/?terms=StartsWith&scope=Power%20Apps\" >StartsWith</a></li><li><a href=\"https://docs.microsoft.com/en-us/search/?terms=Sum&scope=Power%20Apps\" >Sum</a></li><li><a href=\"https://docs.microsoft.com/en-us/search/?terms=Sum&scope=Power%20Apps\" >Sum</a></li><li><a href=\"https://docs.microsoft.com/en-us/search/?terms=Split&scope=Power%20Apps\" >Split</a></li><li><a href=\"https://docs.microsoft.com/en-us/search/?terms=Sqrt&scope=Power%20Apps\" >Sqrt</a></li><li><a href=\"https://docs.microsoft.com/en-us/search/?terms=Substitute&scope=Power%20Apps\" >Substitute</a></li><li><a href=\"https://docs.microsoft.com/en-us/search/?terms=Switch&scope=Power%20Apps\" >Switch</a></li><li><a href=\"https://docs.microsoft.com/en-us/search/?terms=Table&scope=Power%20Apps\" >Table</a></li><li><a href=\"https://docs.microsoft.com/en-us/search/?terms=Text&scope=Power%20Apps\" >Text</a></li><li><a href=\"https://docs.microsoft.com/en-us/search/?terms=Time&scope=Power%20Apps\" >Time</a></li><li><a href=\"https://docs.microsoft.com/en-us/search/?terms=TimeValue&scope=Power%20Apps\" >TimeValue</a></li><li><a href=\"https://docs.microsoft.com/en-us/search/?terms=Today&scope=Power%20Apps\" >Today</a></li><li><a href=\"https://docs.microsoft.com/en-us/search/?terms=Trim&scope=Power%20Apps\" >Trim</a></li><li><a href=\"https://docs.microsoft.com/en-us/search/?terms=TrimEnds&scope=Power%20Apps\" >TrimEnds</a></li><li><a href=\"https://docs.microsoft.com/en-us/search/?terms=Trunc&scope=Power%20Apps\" >Trunc</a></li><li><a href=\"https://docs.microsoft.com/en-us/search/?terms=Upper&scope=Power%20Apps\" >Upper</a></li><li><a href=\"https://docs.microsoft.com/en-us/search/?terms=Value&scope=Power%20Apps\" >Value</a></li><li><a href=\"https://docs.microsoft.com/en-us/search/?terms=With&scope=Power%20Apps\" >With</a></li><li><a href=\"https://docs.microsoft.com/en-us/search/?terms=Year&scope=Power%20Apps\" >Year</a></li></ol></details><br>"
      ]
     },
     "metadata": {},
     "output_type": "display_data"
    }
   ],
   "source": [
    "#r \"nuget: PowerFx.NET.Interactive,0.0.9.5\""
   ]
  },
  {
   "cell_type": "markdown",
   "metadata": {},
   "source": [
    "# Set Variable"
   ]
  },
  {
   "cell_type": "code",
   "execution_count": null,
   "metadata": {
    "dotnet_interactive": {
     "language": "csharp"
    }
   },
   "outputs": [
    {
     "data": {
      "text/markdown": [
       "<table><style>table { width: 95vw; } th:first-child,td:first-child {overflow: auto; max-width: 30vw;} th:last-child,td:last-child {overflow: auto; min-width: 60vw;}</style><tr><th>Expression</th><th>Result</th></tr>\n",
       "<tr><td><pre style=\"font-family: Consolas\" >Set(environment,&nbsp;\".NET&nbsp;Interactive\")</pre></td><td><pre><code>\".NET&nbsp;Interactive\"</code></pre></td></table>"
      ]
     },
     "metadata": {},
     "output_type": "display_data"
    }
   ],
   "source": [
    "#!powerfx\n",
    "Set(environment, \".NET Interactive\")"
   ]
  },
  {
   "cell_type": "markdown",
   "metadata": {},
   "source": [
    "# Set Table"
   ]
  },
  {
   "cell_type": "code",
   "execution_count": null,
   "metadata": {
    "dotnet_interactive": {
     "language": "csharp"
    }
   },
   "outputs": [
    {
     "data": {
      "text/markdown": [
       "<table><style>table { width: 95vw; } th:first-child,td:first-child {overflow: auto; max-width: 30vw;} th:last-child,td:last-child {overflow: auto; min-width: 60vw;}</style><tr><th>Expression</th><th>Result</th></tr>\n",
       "<tr><td><pre style=\"font-family: Consolas\" >Set(&nbsp;Products,<br>&nbsp;&nbsp;&nbsp;&nbsp;Table(<br>&nbsp;&nbsp;&nbsp;&nbsp;&nbsp;&nbsp;&nbsp;&nbsp;{&nbsp;Product:&nbsp;\"Widget\",&nbsp;&nbsp;&nbsp;&nbsp;'Quantity&nbsp;Requested':&nbsp;6,&nbsp;&nbsp;'Quantity&nbsp;Available':&nbsp;3&nbsp;},<br>&nbsp;&nbsp;&nbsp;&nbsp;&nbsp;&nbsp;&nbsp;&nbsp;{&nbsp;Product:&nbsp;\"Gadget\",&nbsp;&nbsp;&nbsp;&nbsp;'Quantity&nbsp;Requested':&nbsp;10,&nbsp;'Quantity&nbsp;Available':&nbsp;20&nbsp;},<br>&nbsp;&nbsp;&nbsp;&nbsp;&nbsp;&nbsp;&nbsp;&nbsp;{&nbsp;Product:&nbsp;\"Gizmo\",&nbsp;&nbsp;&nbsp;&nbsp;&nbsp;'Quantity&nbsp;Requested':&nbsp;4,&nbsp;&nbsp;'Quantity&nbsp;Available':&nbsp;11&nbsp;},<br>&nbsp;&nbsp;&nbsp;&nbsp;&nbsp;&nbsp;&nbsp;&nbsp;{&nbsp;Product:&nbsp;\"Apparatus\",&nbsp;'Quantity&nbsp;Requested':&nbsp;7,&nbsp;&nbsp;'Quantity&nbsp;Available':&nbsp;6&nbsp;}<br>&nbsp;&nbsp;&nbsp;&nbsp;)<br>);</pre></td><td><pre><code>[<br>&nbsp;&nbsp;{<br>&nbsp;&nbsp;&nbsp;&nbsp;\"Product\":&nbsp;\"Widget\",<br>&nbsp;&nbsp;&nbsp;&nbsp;\"Quantity&nbsp;Requested\":&nbsp;6,<br>&nbsp;&nbsp;&nbsp;&nbsp;\"Quantity&nbsp;Available\":&nbsp;3<br>&nbsp;&nbsp;},<br>&nbsp;&nbsp;{<br>&nbsp;&nbsp;&nbsp;&nbsp;\"Product\":&nbsp;\"Gadget\",<br>&nbsp;&nbsp;&nbsp;&nbsp;\"Quantity&nbsp;Requested\":&nbsp;10,<br>&nbsp;&nbsp;&nbsp;&nbsp;\"Quantity&nbsp;Available\":&nbsp;20<br>&nbsp;&nbsp;},<br>&nbsp;&nbsp;{<br>&nbsp;&nbsp;&nbsp;&nbsp;\"Product\":&nbsp;\"Gizmo\",<br>&nbsp;&nbsp;&nbsp;&nbsp;\"Quantity&nbsp;Requested\":&nbsp;4,<br>&nbsp;&nbsp;&nbsp;&nbsp;\"Quantity&nbsp;Available\":&nbsp;11<br>&nbsp;&nbsp;},<br>&nbsp;&nbsp;{<br>&nbsp;&nbsp;&nbsp;&nbsp;\"Product\":&nbsp;\"Apparatus\",<br>&nbsp;&nbsp;&nbsp;&nbsp;\"Quantity&nbsp;Requested\":&nbsp;7,<br>&nbsp;&nbsp;&nbsp;&nbsp;\"Quantity&nbsp;Available\":&nbsp;6<br>&nbsp;&nbsp;}<br>]</code></pre></td></table>"
      ]
     },
     "metadata": {},
     "output_type": "display_data"
    }
   ],
   "source": [
    "#!powerfx\n",
    "Set( Products,\n",
    "    Table(\n",
    "        { Product: \"Widget\",    'Quantity Requested': 6,  'Quantity Available': 3 },\n",
    "        { Product: \"Gadget\",    'Quantity Requested': 10, 'Quantity Available': 20 },\n",
    "        { Product: \"Gizmo\",     'Quantity Requested': 4,  'Quantity Available': 11 },\n",
    "        { Product: \"Apparatus\", 'Quantity Requested': 7,  'Quantity Available': 6 }\n",
    "    )\n",
    ");"
   ]
  },
  {
   "cell_type": "markdown",
   "metadata": {},
   "source": [
    "# Run Multiple Formulas"
   ]
  },
  {
   "cell_type": "code",
   "execution_count": null,
   "metadata": {
    "dotnet_interactive": {
     "language": "csharp"
    }
   },
   "outputs": [
    {
     "data": {
      "text/markdown": [
       "<table><style>table { width: 95vw; } th:first-child,td:first-child {overflow: auto; max-width: 30vw;} th:last-child,td:last-child {overflow: auto; min-width: 60vw;}</style><tr><th>Expression</th><th>Result</th></tr>\n",
       "<tr><td><pre style=\"font-family: Consolas\" >Set(varInput,&nbsp;ForAll(&nbsp;[\"4\"],&nbsp;Sqrt(&nbsp;Value&nbsp;)&nbsp;))</pre></td><td><pre><code>[<br>&nbsp;&nbsp;{<br>&nbsp;&nbsp;&nbsp;&nbsp;\"Value\":&nbsp;2<br>&nbsp;&nbsp;}<br>]</code></pre></td>\n",
       "<tr><td><pre style=\"font-family: Consolas\" >Sequence(4)</pre></td><td><pre><code>[<br>&nbsp;&nbsp;{<br>&nbsp;&nbsp;&nbsp;&nbsp;\"Value\":&nbsp;1<br>&nbsp;&nbsp;},<br>&nbsp;&nbsp;{<br>&nbsp;&nbsp;&nbsp;&nbsp;\"Value\":&nbsp;2<br>&nbsp;&nbsp;},<br>&nbsp;&nbsp;{<br>&nbsp;&nbsp;&nbsp;&nbsp;\"Value\":&nbsp;3<br>&nbsp;&nbsp;},<br>&nbsp;&nbsp;{<br>&nbsp;&nbsp;&nbsp;&nbsp;\"Value\":&nbsp;4<br>&nbsp;&nbsp;}<br>]</code></pre></td>\n",
       "<tr><td><pre style=\"font-family: Consolas\" >First(varInput);</pre></td><td><pre><code>{<br>&nbsp;&nbsp;\"Value\":&nbsp;2<br>}</code></pre></td></table>"
      ]
     },
     "metadata": {},
     "output_type": "display_data"
    }
   ],
   "source": [
    "#!powerfx\n",
    "Set(varInput, ForAll( [\"4\"], Sqrt( Value ) ));\n",
    "Sequence(4);\n",
    "First(varInput);"
   ]
  },
  {
   "cell_type": "markdown",
   "metadata": {},
   "source": [
    "# Filtering"
   ]
  },
  {
   "cell_type": "code",
   "execution_count": null,
   "metadata": {
    "dotnet_interactive": {
     "language": "csharp"
    }
   },
   "outputs": [],
   "source": [
    "#!powerfx\n",
    "Set( Products,\n",
    "    Table(\n",
    "        { Product: \"Widget\",    'Quantity Requested': 6,  'Quantity Available': 3 },\n",
    "        { Product: \"Gadget\",    'Quantity Requested': 10, 'Quantity Available': 20 },\n",
    "        { Product: \"Gizmo\",     'Quantity Requested': 4,  'Quantity Available': 11 },\n",
    "        { Product: \"Apparatus\", 'Quantity Requested': 7,  'Quantity Available': 6 }\n",
    "    )\n",
    ");\n",
    "First(Products);\n",
    "AddColumns( Filter( Products, 'Quantity Requested' > 'Quantity Available' ), \"Quantity To Order\", 'Quantity Requested' - 'Quantity Available');"
   ]
  },
  {
   "cell_type": "markdown",
   "metadata": {},
   "source": [
    "# Query current state"
   ]
  },
  {
   "cell_type": "code",
   "execution_count": null,
   "metadata": {
    "dotnet_interactive": {
     "language": "csharp"
    }
   },
   "outputs": [
    {
     "data": {
      "text/markdown": [
       "<table><style>table { width: 95vw; } th:first-child,td:first-child {overflow: auto; max-width: 30vw;} th:last-child,td:last-child {overflow: auto; min-width: 60vw;}</style><tr><th>Variable</th><th>Result</th></tr><tr><td><pre style=\"font-family: Consolas\" >environment</pre></td><td><pre><code>\".NET&nbsp;Interactive\"</code></pre></td></tr>\n",
       "<tr><td><pre style=\"font-family: Consolas\" >Products</pre></td><td><pre><code>[<br>&nbsp;&nbsp;{<br>&nbsp;&nbsp;&nbsp;&nbsp;\"Product\":&nbsp;\"Widget\",<br>&nbsp;&nbsp;&nbsp;&nbsp;\"Quantity&nbsp;Requested\":&nbsp;6,<br>&nbsp;&nbsp;&nbsp;&nbsp;\"Quantity&nbsp;Available\":&nbsp;3<br>&nbsp;&nbsp;},<br>&nbsp;&nbsp;{<br>&nbsp;&nbsp;&nbsp;&nbsp;\"Product\":&nbsp;\"Gadget\",<br>&nbsp;&nbsp;&nbsp;&nbsp;\"Quantity&nbsp;Requested\":&nbsp;10,<br>&nbsp;&nbsp;&nbsp;&nbsp;\"Quantity&nbsp;Available\":&nbsp;20<br>&nbsp;&nbsp;},<br>&nbsp;&nbsp;{<br>&nbsp;&nbsp;&nbsp;&nbsp;\"Product\":&nbsp;\"Gizmo\",<br>&nbsp;&nbsp;&nbsp;&nbsp;\"Quantity&nbsp;Requested\":&nbsp;4,<br>&nbsp;&nbsp;&nbsp;&nbsp;\"Quantity&nbsp;Available\":&nbsp;11<br>&nbsp;&nbsp;},<br>&nbsp;&nbsp;{<br>&nbsp;&nbsp;&nbsp;&nbsp;\"Product\":&nbsp;\"Apparatus\",<br>&nbsp;&nbsp;&nbsp;&nbsp;\"Quantity&nbsp;Requested\":&nbsp;7,<br>&nbsp;&nbsp;&nbsp;&nbsp;\"Quantity&nbsp;Available\":&nbsp;6<br>&nbsp;&nbsp;}<br>]</code></pre></td></tr>\n",
       "<tr><td><pre style=\"font-family: Consolas\" >varInput</pre></td><td><pre><code>[<br>&nbsp;&nbsp;{<br>&nbsp;&nbsp;&nbsp;&nbsp;\"Value\":&nbsp;2<br>&nbsp;&nbsp;}<br>]</code></pre></td></tr>\n",
       "<tr><td><pre style=\"font-family: Consolas\" >varText</pre></td><td><pre><code>\"Hello\"</code></pre></td></tr></table>"
      ]
     },
     "metadata": {},
     "output_type": "display_data"
    },
    {
     "data": {
      "text/markdown": [
       "### environment"
      ]
     },
     "metadata": {},
     "output_type": "display_data"
    },
    {
     "data": {
      "application/json": ""
     },
     "metadata": {},
     "output_type": "display_data"
    },
    {
     "data": {
      "text/markdown": [
       "### Products"
      ]
     },
     "metadata": {},
     "output_type": "display_data"
    },
    {
     "data": {
      "application/vnd.code.notebook.error": {
       "message": "r.endsWith is not a function",
       "name": "TypeError",
       "stack": "TypeError: r.endsWith is not a function\n    at u (d:\\Program Files\\Microsoft VS Code\\resources\\app\\extensions\\ipynb\\dist\\ipynbMain.js:1:142434)\n    at s (d:\\Program Files\\Microsoft VS Code\\resources\\app\\extensions\\ipynb\\dist\\ipynbMain.js:1:143084)\n    at f (d:\\Program Files\\Microsoft VS Code\\resources\\app\\extensions\\ipynb\\dist\\ipynbMain.js:1:143827)\n    at h (d:\\Program Files\\Microsoft VS Code\\resources\\app\\extensions\\ipynb\\dist\\ipynbMain.js:1:144577)\n    at Array.map (<anonymous>)\n    at d:\\Program Files\\Microsoft VS Code\\resources\\app\\extensions\\ipynb\\dist\\ipynbMain.js:1:145763\n    at d:\\Program Files\\Microsoft VS Code\\resources\\app\\extensions\\ipynb\\dist\\ipynbMain.js:1:146005\n    at d:\\Program Files\\Microsoft VS Code\\resources\\app\\extensions\\ipynb\\dist\\ipynbMain.js:1:146012\n    at Array.map (<anonymous>)\n    at e.jupyterNotebookModelToNotebookData (d:\\Program Files\\Microsoft VS Code\\resources\\app\\extensions\\ipynb\\dist\\ipynbMain.js:1:145321)\n    at e.NotebookSerializer.deserializeNotebook (d:\\Program Files\\Microsoft VS Code\\resources\\app\\extensions\\ipynb\\dist\\ipynbMain.js:1:147423)\n    at T.$dataToNotebook (d:\\Program Files\\Microsoft VS Code\\resources\\app\\out\\vs\\workbench\\services\\extensions\\node\\extensionHostProcess.js:94:218768)\n    at n._doInvokeHandler (d:\\Program Files\\Microsoft VS Code\\resources\\app\\out\\vs\\workbench\\services\\extensions\\node\\extensionHostProcess.js:98:13802)\n    at n._invokeHandler (d:\\Program Files\\Microsoft VS Code\\resources\\app\\out\\vs\\workbench\\services\\extensions\\node\\extensionHostProcess.js:98:13486)\n    at n._receiveRequest (d:\\Program Files\\Microsoft VS Code\\resources\\app\\out\\vs\\workbench\\services\\extensions\\node\\extensionHostProcess.js:98:12097)\n    at n._receiveOneMessage (d:\\Program Files\\Microsoft VS Code\\resources\\app\\out\\vs\\workbench\\services\\extensions\\node\\extensionHostProcess.js:98:11025)\n    at d:\\Program Files\\Microsoft VS Code\\resources\\app\\out\\vs\\workbench\\services\\extensions\\node\\extensionHostProcess.js:98:8922\n    at l.fire (d:\\Program Files\\Microsoft VS Code\\resources\\app\\out\\vs\\workbench\\services\\extensions\\node\\extensionHostProcess.js:66:1712)\n    at s.fire (d:\\Program Files\\Microsoft VS Code\\resources\\app\\out\\vs\\workbench\\services\\extensions\\node\\extensionHostProcess.js:74:15990)\n    at d:\\Program Files\\Microsoft VS Code\\resources\\app\\out\\vs\\workbench\\services\\extensions\\node\\extensionHostProcess.js:113:30625\n    at l.fire (d:\\Program Files\\Microsoft VS Code\\resources\\app\\out\\vs\\workbench\\services\\extensions\\node\\extensionHostProcess.js:66:1712)\n    at s.fire (d:\\Program Files\\Microsoft VS Code\\resources\\app\\out\\vs\\workbench\\services\\extensions\\node\\extensionHostProcess.js:74:15990)\n    at f._receiveMessage (d:\\Program Files\\Microsoft VS Code\\resources\\app\\out\\vs\\workbench\\services\\extensions\\node\\extensionHostProcess.js:74:21260)\n    at d:\\Program Files\\Microsoft VS Code\\resources\\app\\out\\vs\\workbench\\services\\extensions\\node\\extensionHostProcess.js:74:18138\n    at l.fire (d:\\Program Files\\Microsoft VS Code\\resources\\app\\out\\vs\\workbench\\services\\extensions\\node\\extensionHostProcess.js:66:1712)\n    at w.acceptChunk (d:\\Program Files\\Microsoft VS Code\\resources\\app\\out\\vs\\workbench\\services\\extensions\\node\\extensionHostProcess.js:74:13351)\n    at d:\\Program Files\\Microsoft VS Code\\resources\\app\\out\\vs\\workbench\\services\\extensions\\node\\extensionHostProcess.js:74:12699\n    at Socket.m (d:\\Program Files\\Microsoft VS Code\\resources\\app\\out\\vs\\workbench\\services\\extensions\\node\\extensionHostProcess.js:113:13575)\n    at Socket.emit (events.js:315:20)\n    at addChunk (internal/streams/readable.js:309:12)\n    at readableAddChunk (internal/streams/readable.js:284:9)\n    at Socket.Readable.push (internal/streams/readable.js:223:10)\n    at Pipe.onStreamRead (internal/stream_base_commons.js:188:23)"
      }
     },
     "metadata": {},
     "output_type": "display_data"
    },
    {
     "data": {
      "text/markdown": [
       "### varInput"
      ]
     },
     "metadata": {},
     "output_type": "display_data"
    },
    {
     "data": {
      "application/json": ""
     },
     "metadata": {},
     "output_type": "display_data"
    },
    {
     "data": {
      "text/markdown": [
       "### varText"
      ]
     },
     "metadata": {},
     "output_type": "display_data"
    },
    {
     "data": {
      "application/json": ""
     },
     "metadata": {},
     "output_type": "display_data"
    }
   ],
   "source": [
    "#!powerfx\n",
    "?"
   ]
  },
  {
   "cell_type": "markdown",
   "metadata": {},
   "source": [
    "# Create variables in C#"
   ]
  },
  {
   "cell_type": "code",
   "execution_count": null,
   "metadata": {
    "dotnet_interactive": {
     "language": "csharp"
    }
   },
   "outputs": [],
   "source": [
    "using System.Collections.Generic;\n",
    "\n",
    "var x = new List<string>(new[]{\"a\"});\n",
    "var today = DateTime.Now;"
   ]
  },
  {
   "cell_type": "markdown",
   "metadata": {},
   "source": [
    "# Use variables from C# in Power Fx"
   ]
  },
  {
   "cell_type": "code",
   "execution_count": null,
   "metadata": {
    "dotnet_interactive": {
     "language": "csharp"
    }
   },
   "outputs": [
    {
     "data": {
      "text/markdown": [
       "<table><style>table { width: 95vw; } th:first-child,td:first-child {overflow: auto; max-width: 30vw;} th:last-child,td:last-child {overflow: auto; min-width: 60vw;}</style><tr><th>Expression</th><th>Result</th></tr>\n",
       "<tr><td><pre style=\"font-family: Consolas\" >Set(varAlphabets,&nbsp;x)</pre></td><td><pre><code>[<br>&nbsp;&nbsp;{<br>&nbsp;&nbsp;&nbsp;&nbsp;\"Value\":&nbsp;\"a\"<br>&nbsp;&nbsp;}<br>]</code></pre></td>\n",
       "<tr><td><pre style=\"font-family: Consolas\" >Set(varToday,&nbsp;today);</pre></td><td><pre><code>24/11/2021&nbsp;6:30:06&nbsp;AM</code></pre></td></table>"
      ]
     },
     "metadata": {},
     "output_type": "display_data"
    }
   ],
   "source": [
    "#!powerfx\n",
    "#!share x --from csharp\n",
    "#!share today --from csharp\n",
    "Set(varAlphabets, x);\n",
    "Set(varToday, today);"
   ]
  },
  {
   "cell_type": "markdown",
   "metadata": {},
   "source": [
    "# Set variables in Power Fx"
   ]
  },
  {
   "cell_type": "code",
   "execution_count": null,
   "metadata": {
    "dotnet_interactive": {
     "language": "csharp"
    }
   },
   "outputs": [
    {
     "data": {
      "text/markdown": [
       "<table><style>table { width: 95vw; } th:first-child,td:first-child {overflow: auto; max-width: 30vw;} th:last-child,td:last-child {overflow: auto; min-width: 60vw;}</style><tr><th>Expression</th><th>Result</th></tr>\n",
       "<tr><td><pre style=\"font-family: Consolas\" >Set(varText,&nbsp;\"Hello\");</pre></td><td><pre><code>\"Hello\"</code></pre></td></table>"
      ]
     },
     "metadata": {},
     "output_type": "display_data"
    }
   ],
   "source": [
    "#!powerfx\n",
    "Set(varText, \"Hello\");"
   ]
  },
  {
   "cell_type": "markdown",
   "metadata": {},
   "source": [
    "# Use variable from Power Fx in C#"
   ]
  },
  {
   "cell_type": "code",
   "execution_count": null,
   "metadata": {
    "dotnet_interactive": {
     "language": "csharp"
    }
   },
   "outputs": [
    {
     "name": "stdout",
     "output_type": "stream",
     "text": [
      "Hello\r\n"
     ]
    }
   ],
   "source": [
    "#!share varText --from powerfx\n",
    "var output = varText;\n",
    "Console.WriteLine(output);"
   ]
  }
 ],
 "metadata": {
  "kernelspec": {
   "display_name": ".NET (C#)",
   "language": "C#",
   "name": ".net-csharp"
  },
  "language_info": {
   "name": "C#"
  }
 },
 "nbformat": 4,
 "nbformat_minor": 2
}
