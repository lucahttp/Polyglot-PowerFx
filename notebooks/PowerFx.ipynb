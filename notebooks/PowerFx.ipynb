{
 "cells": [
  {
   "cell_type": "markdown",
   "metadata": {},
   "source": [
    "# Install .NET and Tools\n",
    "\n",
    "1. [.NET Framework](https://dot.net/learntocode)\n",
    "2. [.NET Interactive Notebooks Extension](https://marketplace.visualstudio.com/items?itemName=ms-dotnettools.dotnet-interactive-vscode)\n",
    "3. [Data Table Extension](https://marketplace.visualstudio.com/items?itemName=RandomFractalsInc.vscode-data-table)"
   ]
  },
  {
   "cell_type": "markdown",
   "metadata": {},
   "source": [
    "# Useful videos to watch regarding .NET Interactive Notebooks\n",
    "\n",
    "1. [Learn C# with Interactive Notebooks](https://www.youtube.com/watch?v=xdmdR2JfKfM)\n",
    "2. [NET Interactive Notebooks with C#/F# in VS Code](https://www.youtube.com/watch?v=DMYtIJT1OeU)\n",
    "3. [.NET Everywhere - Windows, Linux, and Beyond](https://www.youtube.com/watch?v=ZM6OO2lkxA4)"
   ]
  },
  {
   "cell_type": "markdown",
   "metadata": {},
   "source": [
    "# Install Power Fx kernel"
   ]
  },
  {
   "cell_type": "code",
   "execution_count": null,
   "metadata": {
    "dotnet_interactive": {
     "language": "csharp"
    }
   },
   "outputs": [],
   "source": [
    "#r \"nuget: PowerFx.NET.Interactive,0.0.9.5\""
   ]
  },
  {
   "cell_type": "markdown",
   "metadata": {},
   "source": [
    "# Set Variable"
   ]
  },
  {
   "cell_type": "code",
   "execution_count": null,
   "metadata": {
    "dotnet_interactive": {
     "language": "csharp"
    }
   },
   "outputs": [],
   "source": [
    "#!powerfx\n",
    "Set(environment, \".NET Interactive\")"
   ]
  },
  {
   "cell_type": "markdown",
   "metadata": {},
   "source": [
    "# Set Table"
   ]
  },
  {
   "cell_type": "code",
   "execution_count": null,
   "metadata": {
    "dotnet_interactive": {
     "language": "csharp"
    }
   },
   "outputs": [],
   "source": [
    "#!powerfx\n",
    "Set( Products,\n",
    "    Table(\n",
    "        { Product: \"Widget\",    'Quantity Requested': 6,  'Quantity Available': 3 },\n",
    "        { Product: \"Gadget\",    'Quantity Requested': 10, 'Quantity Available': 20 },\n",
    "        { Product: \"Gizmo\",     'Quantity Requested': 4,  'Quantity Available': 11 },\n",
    "        { Product: \"Apparatus\", 'Quantity Requested': 7,  'Quantity Available': 6 }\n",
    "    )\n",
    ");"
   ]
  },
  {
   "cell_type": "markdown",
   "metadata": {},
   "source": [
    "# Run Multiple Formulas"
   ]
  },
  {
   "cell_type": "code",
   "execution_count": null,
   "metadata": {
    "dotnet_interactive": {
     "language": "csharp"
    }
   },
   "outputs": [],
   "source": [
    "#!powerfx\n",
    "Set(varInput, ForAll( [\"4\"], Sqrt( Value ) ));\n",
    "Sequence(4);\n",
    "First(varInput);"
   ]
  },
  {
   "cell_type": "markdown",
   "metadata": {},
   "source": [
    "# Filtering"
   ]
  },
  {
   "cell_type": "code",
   "execution_count": null,
   "metadata": {
    "dotnet_interactive": {
     "language": "csharp"
    }
   },
   "outputs": [],
   "source": [
    "#!powerfx\n",
    "Set( Products,\n",
    "    Table(\n",
    "        { Product: \"Widget\",    'Quantity Requested': 6,  'Quantity Available': 3 },\n",
    "        { Product: \"Gadget\",    'Quantity Requested': 10, 'Quantity Available': 20 },\n",
    "        { Product: \"Gizmo\",     'Quantity Requested': 4,  'Quantity Available': 11 },\n",
    "        { Product: \"Apparatus\", 'Quantity Requested': 7,  'Quantity Available': 6 }\n",
    "    )\n",
    ");\n",
    "First(Products);\n",
    "AddColumns( Filter( Products, 'Quantity Requested' > 'Quantity Available' ), \"Quantity To Order\", 'Quantity Requested' - 'Quantity Available');"
   ]
  },
  {
   "cell_type": "markdown",
   "metadata": {},
   "source": [
    "# Query current state"
   ]
  },
  {
   "cell_type": "code",
   "execution_count": null,
   "metadata": {
    "dotnet_interactive": {
     "language": "csharp"
    }
   },
   "outputs": [],
   "source": [
    "#!powerfx\n",
    "?"
   ]
  },
  {
   "cell_type": "markdown",
   "metadata": {},
   "source": [
    "# Create variables in C#"
   ]
  },
  {
   "cell_type": "code",
   "execution_count": null,
   "metadata": {
    "dotnet_interactive": {
     "language": "csharp"
    }
   },
   "outputs": [],
   "source": [
    "using System.Collections.Generic;\n",
    "\n",
    "var x = new List<string>(new[]{\"a\"});\n",
    "var today = DateTime.Now;"
   ]
  },
  {
   "cell_type": "markdown",
   "metadata": {},
   "source": [
    "# Use variables from C# in Power Fx"
   ]
  },
  {
   "cell_type": "code",
   "execution_count": null,
   "metadata": {
    "dotnet_interactive": {
     "language": "csharp"
    }
   },
   "outputs": [],
   "source": [
    "#!powerfx\n",
    "#!share x --from csharp\n",
    "#!share today --from csharp\n",
    "Set(varAlphabets, x);\n",
    "Set(varToday, today);"
   ]
  },
  {
   "cell_type": "markdown",
   "metadata": {},
   "source": [
    "# Set variables in Power Fx"
   ]
  },
  {
   "cell_type": "code",
   "execution_count": null,
   "metadata": {
    "dotnet_interactive": {
     "language": "csharp"
    }
   },
   "outputs": [],
   "source": [
    "#!powerfx\n",
    "Set(varText, \"Hello\");"
   ]
  },
  {
   "cell_type": "markdown",
   "metadata": {},
   "source": [
    "# Use variable from Power Fx in C#"
   ]
  },
  {
   "cell_type": "code",
   "execution_count": null,
   "metadata": {
    "dotnet_interactive": {
     "language": "csharp"
    }
   },
   "outputs": [],
   "source": [
    "#!share varText --from powerfx\n",
    "var output = varText;\n",
    "Console.WriteLine(output);"
   ]
  }
 ],
 "metadata": {
  "kernelspec": {
   "display_name": ".NET (C#)",
   "language": "C#",
   "name": ".net-csharp"
  },
  "language_info": {
   "name": "C#"
  }
 },
 "nbformat": 4,
 "nbformat_minor": 2
}
