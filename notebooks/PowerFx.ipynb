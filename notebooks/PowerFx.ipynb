{
 "cells": [
  {
   "cell_type": "markdown",
   "metadata": {},
   "source": [
    "# Install .NET and Tools\n",
    "\n",
    "1. [.NET Framework](https://dot.net/learntocode)\n",
    "2. [Polyglot Notebooks Extension](https://marketplace.visualstudio.com/items?itemName=ms-dotnettools.dotnet-interactive-vscode)\n",
    "3. [Data Table Extension](https://marketplace.visualstudio.com/items?itemName=RandomFractalsInc.vscode-data-table)"
   ]
  },
  {
   "cell_type": "markdown",
   "metadata": {},
   "source": [
    "# Useful videos to watch regarding Polyglot Notebooks\n",
    "\n",
    ".NET Interactive Notebooks was renamed to Polyglot Notebooks.\n",
    "\n",
    "1. [Learn C# with Interactive Notebooks](https://www.youtube.com/watch?v=xdmdR2JfKfM)\n",
    "2. [NET Interactive Notebooks with C#/F# in VS Code](https://www.youtube.com/watch?v=DMYtIJT1OeU)\n",
    "3. [.NET Everywhere - Windows, Linux, and Beyond](https://www.youtube.com/watch?v=ZM6OO2lkxA4)"
   ]
  },
  {
   "cell_type": "markdown",
   "metadata": {},
   "source": [
    "# Install Power Fx kernel"
   ]
  },
  {
   "cell_type": "code",
   "execution_count": null,
   "metadata": {
    "dotnet_interactive": {
     "language": "csharp"
    }
   },
   "outputs": [],
   "source": [
    "#r \"nuget: PowerFx.NET.Interactive,2024.05.01.8\""
   ]
  },
  {
   "cell_type": "markdown",
   "metadata": {},
   "source": [
    "# Set Variable"
   ]
  },
  {
   "cell_type": "code",
   "execution_count": null,
   "metadata": {
    "dotnet_interactive": {
     "language": "powerfx"
    },
    "polyglot_notebook": {
     "kernelName": "powerfx"
    }
   },
   "outputs": [],
   "source": [
    "Set(environment, \"Polyglot Notebooks 💗 Power Fx\")"
   ]
  },
  {
   "cell_type": "markdown",
   "metadata": {},
   "source": [
    "# Set Table"
   ]
  },
  {
   "cell_type": "code",
   "execution_count": null,
   "metadata": {
    "dotnet_interactive": {
     "language": "powerfx"
    },
    "polyglot_notebook": {
     "kernelName": "powerfx"
    }
   },
   "outputs": [],
   "source": [
    "ClearCollect( Products,\n",
    "    Table(\n",
    "        { Product: \"Widget\",    'Quantity Requested': 6,  'Quantity Available': 3 },\n",
    "        { Product: \"Gadget\",    'Quantity Requested': 10, 'Quantity Available': 20 },\n",
    "        { Product: \"Gizmo\",     'Quantity Requested': 4,  'Quantity Available': 11 },\n",
    "        { Product: \"Apparatus\", 'Quantity Requested': 7,  'Quantity Available': 6 }\n",
    "    )\n",
    ");"
   ]
  },
  {
   "cell_type": "markdown",
   "metadata": {},
   "source": [
    "# Run Multiple Formulas"
   ]
  },
  {
   "cell_type": "code",
   "execution_count": null,
   "metadata": {
    "dotnet_interactive": {
     "language": "powerfx"
    },
    "polyglot_notebook": {
     "kernelName": "powerfx"
    }
   },
   "outputs": [],
   "source": [
    "Set(varInput, ForAll( [\"4\"], Sqrt( Value ) ));\n",
    "Sequence(4);\n",
    "First(varInput);"
   ]
  },
  {
   "cell_type": "markdown",
   "metadata": {},
   "source": [
    "# Filtering"
   ]
  },
  {
   "cell_type": "code",
   "execution_count": null,
   "metadata": {
    "dotnet_interactive": {
     "language": "powerfx"
    },
    "polyglot_notebook": {
     "kernelName": "powerfx"
    }
   },
   "outputs": [],
   "source": [
    "ClearCollect( Products,\n",
    "    Table(\n",
    "        { Product: \"Widget\",    'Quantity Requested': 6,  'Quantity Available': 3 },\n",
    "        { Product: \"Gadget\",    'Quantity Requested': 10, 'Quantity Available': 20 },\n",
    "        { Product: \"Gizmo\",     'Quantity Requested': 4,  'Quantity Available': 11 },\n",
    "        { Product: \"Apparatus\", 'Quantity Requested': 7,  'Quantity Available': 6 }\n",
    "    )\n",
    ");\n",
    "First(Products);\n",
    "AddColumns( Filter( Products, 'Quantity Requested' > 'Quantity Available' ), 'Quantity To Order', 'Quantity Requested' - 'Quantity Available');"
   ]
  },
  {
   "cell_type": "markdown",
   "metadata": {},
   "source": [
    "# Query current state"
   ]
  },
  {
   "cell_type": "code",
   "execution_count": null,
   "metadata": {
    "dotnet_interactive": {
     "language": "powerfx"
    },
    "polyglot_notebook": {
     "kernelName": "powerfx"
    }
   },
   "outputs": [],
   "source": [
    "?"
   ]
  },
  {
   "cell_type": "markdown",
   "metadata": {},
   "source": [
    "# Create variables in C#"
   ]
  },
  {
   "cell_type": "code",
   "execution_count": null,
   "metadata": {
    "dotnet_interactive": {
     "language": "csharp"
    }
   },
   "outputs": [],
   "source": [
    "using System.Collections.Generic;\n",
    "\n",
    "var x = new List<string>(new[]{\"a\"});\n",
    "var today = DateTime.Now;"
   ]
  },
  {
   "cell_type": "markdown",
   "metadata": {},
   "source": [
    "# Use variables from C# in Power Fx"
   ]
  },
  {
   "cell_type": "code",
   "execution_count": null,
   "metadata": {
    "dotnet_interactive": {
     "language": "powerfx"
    },
    "polyglot_notebook": {
     "kernelName": "powerfx"
    }
   },
   "outputs": [],
   "source": [
    "#!share x --from csharp\n",
    "#!share today --from csharp\n",
    "Set(varAlphabets, x);\n",
    "Set(varToday, today);"
   ]
  },
  {
   "cell_type": "markdown",
   "metadata": {},
   "source": [
    "# Set variables in Power Fx"
   ]
  },
  {
   "cell_type": "code",
   "execution_count": null,
   "metadata": {
    "dotnet_interactive": {
     "language": "powerfx"
    },
    "polyglot_notebook": {
     "kernelName": "powerfx"
    }
   },
   "outputs": [],
   "source": [
    "Set(varText, \"Hello\");"
   ]
  },
  {
   "cell_type": "markdown",
   "metadata": {},
   "source": [
    "# Use variable from Power Fx in C#"
   ]
  },
  {
   "cell_type": "code",
   "execution_count": null,
   "metadata": {
    "dotnet_interactive": {
     "language": "csharp"
    }
   },
   "outputs": [],
   "source": [
    "#!share varText --from powerfx\n",
    "var output = varText;\n",
    "Console.WriteLine(output);"
   ]
  },
  {
   "cell_type": "markdown",
   "metadata": {},
   "source": [
    "## Creating new Functions in Power Fx\n",
    "You can create new Functions by extending a new class from ReflectionFunction. The classname should end with Function. Let us implement a sample Functions:\n",
    "\n",
    "Slice - This is similar to JavaScript Array.slice function. It accepts 3 parameters: The Table to slice records from, starting index of the slice, and number of items to slice. You can pass Blank, if you want all the items from the starting index of slice."
   ]
  },
  {
   "cell_type": "code",
   "execution_count": null,
   "metadata": {
    "dotnet_interactive": {
     "language": "csharp"
    },
    "polyglot_notebook": {
     "kernelName": "csharp"
    }
   },
   "outputs": [],
   "source": [
    "using Microsoft.PowerFx;\n",
    "using Microsoft.PowerFx.Core.Functions;\n",
    "using Microsoft.PowerFx.Core.Localization;\n",
    "using Microsoft.PowerFx.Types;\n",
    "using Microsoft.PowerFx.Core.Utils;\n",
    "using PowerFxDotnetInteractive;\n",
    "\n",
    "private class SliceFunction : ReflectionFunction\n",
    "{\n",
    "\tpublic SliceFunction()\n",
    "\t\t: base(\"Slice\", TableType.Empty().Add(\"Name\", FormulaType.String).Add(\"Rating\", FormulaType.Number),TableType.Empty().Add(\"Name\", FormulaType.String).Add(\"Rating\", FormulaType.Number), FormulaType.Number, FormulaType.Number)\n",
    "\t{\n",
    "\t}\n",
    "\n",
    "\tpublic TableValue Execute(TableValue table, NumberValue skipCount, NumberValue takeCount)\n",
    "\t{\n",
    "\t\treturn TableValue.NewTable(table.Rows.First().Value.Type, table.Rows.Skip((int)skipCount.Value).Take((int)takeCount.Value).Select(x => x.Value).ToArray());\n",
    "\t}\n",
    "}"
   ]
  },
  {
   "cell_type": "markdown",
   "metadata": {},
   "source": [
    "Now let us add the function to the Power Fx Engine. We obtain the instance of RecalcEngine from the Power Fx kernel and add our custom Function."
   ]
  },
  {
   "cell_type": "code",
   "execution_count": null,
   "metadata": {
    "dotnet_interactive": {
     "language": "csharp"
    },
    "polyglot_notebook": {
     "kernelName": "csharp"
    }
   },
   "outputs": [],
   "source": [
    "PowerFxKernel.GetRecalcEngine().Config.AddFunction(new SliceFunction());"
   ]
  },
  {
   "cell_type": "markdown",
   "metadata": {},
   "source": [
    "### Slice Function"
   ]
  },
  {
   "cell_type": "code",
   "execution_count": 6,
   "metadata": {
    "dotnet_interactive": {
     "language": "powerfx"
    },
    "polyglot_notebook": {
     "kernelName": "powerfx"
    }
   },
   "outputs": [
    {
     "data": {
      "text/markdown": [
       "<table><style>table { width: 95vw; } th:first-child,td:first-child {overflow: auto; max-width: 30vw;} th:last-child,td:last-child {overflow: auto; min-width: 60vw;}</style><tr><th>Expression</th><th>Result</th></tr>\n",
       "<tr><td><pre style=\"font-family: Consolas\" >Set(MovieTable,&nbsp;Table({&nbsp;Name:&nbsp;\"Iron&nbsp;Man\",&nbsp;Rating:&nbsp;10&nbsp;},&nbsp;{&nbsp;Name:&nbsp;\"Captain&nbsp;America\",&nbsp;Rating:&nbsp;10&nbsp;},&nbsp;{&nbsp;Name:&nbsp;\"Dark&nbsp;Knight\",&nbsp;Rating:&nbsp;10&nbsp;}))</pre></td><td><pre><code>[<br>&nbsp;&nbsp;{<br>&nbsp;&nbsp;&nbsp;&nbsp;\"Name\":&nbsp;\"Iron&nbsp;Man\",<br>&nbsp;&nbsp;&nbsp;&nbsp;\"Rating\":&nbsp;10<br>&nbsp;&nbsp;},<br>&nbsp;&nbsp;{<br>&nbsp;&nbsp;&nbsp;&nbsp;\"Name\":&nbsp;\"Captain&nbsp;America\",<br>&nbsp;&nbsp;&nbsp;&nbsp;\"Rating\":&nbsp;10<br>&nbsp;&nbsp;},<br>&nbsp;&nbsp;{<br>&nbsp;&nbsp;&nbsp;&nbsp;\"Name\":&nbsp;\"Dark&nbsp;Knight\",<br>&nbsp;&nbsp;&nbsp;&nbsp;\"Rating\":&nbsp;10<br>&nbsp;&nbsp;}<br>]</code></pre></td>\n",
       "<tr><td><pre style=\"font-family: Consolas\" >Slice(MovieTable,&nbsp;1,&nbsp;1)</pre></td><td><pre><code>[<br>&nbsp;&nbsp;{<br>&nbsp;&nbsp;&nbsp;&nbsp;\"Name\":&nbsp;\"Captain&nbsp;America\",<br>&nbsp;&nbsp;&nbsp;&nbsp;\"Rating\":&nbsp;10<br>&nbsp;&nbsp;}<br>]</code></pre></td>\n",
       "<tr><td><pre style=\"font-family: Consolas\" >Slice(MovieTable,&nbsp;1,&nbsp;2);</pre></td><td><pre><code>[<br>&nbsp;&nbsp;{<br>&nbsp;&nbsp;&nbsp;&nbsp;\"Name\":&nbsp;\"Captain&nbsp;America\",<br>&nbsp;&nbsp;&nbsp;&nbsp;\"Rating\":&nbsp;10<br>&nbsp;&nbsp;},<br>&nbsp;&nbsp;{<br>&nbsp;&nbsp;&nbsp;&nbsp;\"Name\":&nbsp;\"Dark&nbsp;Knight\",<br>&nbsp;&nbsp;&nbsp;&nbsp;\"Rating\":&nbsp;10<br>&nbsp;&nbsp;}<br>]</code></pre></td></table>"
      ]
     },
     "metadata": {},
     "output_type": "display_data"
    }
   ],
   "source": [
    "Set(MovieTable, Table({ Name: \"Iron Man\", Rating: 10 }, { Name: \"Captain America\", Rating: 10 }, { Name: \"Dark Knight\", Rating: 10 }));\n",
    "Slice(MovieTable, 1, 1);\n",
    "Slice(MovieTable, 1, 2);"
   ]
  }
 ],
 "metadata": {
  "kernelspec": {
   "display_name": ".NET (C#)",
   "language": "C#",
   "name": ".net-csharp"
  },
  "language_info": {
   "name": "polyglot-notebook"
  },
  "polyglot_notebook": {
   "kernelInfo": {
    "defaultKernelName": "csharp",
    "items": [
     {
      "aliases": [],
      "name": "csharp"
     },
     {
      "aliases": [],
      "languageName": "powerfx",
      "name": "powerfx"
     }
    ]
   }
  }
 },
 "nbformat": 4,
 "nbformat_minor": 2
}
