{
 "cells": [
  {
   "cell_type": "markdown",
   "metadata": {},
   "source": [
    "# Install .NET and Tools\n",
    "\n",
    "1. [.NET Framework](https://dot.net/learntocode)\n",
    "2. [.NET Interactive Notebooks Extension](https://marketplace.visualstudio.com/items?itemName=ms-dotnettools.dotnet-interactive-vscode)\n",
    "3. [Data Table Extension](https://marketplace.visualstudio.com/items?itemName=RandomFractalsInc.vscode-data-table)"
   ]
  },
  {
   "cell_type": "markdown",
   "metadata": {},
   "source": [
    "# Useful videos to watch regarding .NET Interactive Notebooks\n",
    "\n",
    "1. [Learn C# with Interactive Notebooks](https://www.youtube.com/watch?v=xdmdR2JfKfM)\n",
    "2. [NET Interactive Notebooks with C#/F# in VS Code](https://www.youtube.com/watch?v=DMYtIJT1OeU)\n",
    "3. [.NET Everywhere - Windows, Linux, and Beyond](https://www.youtube.com/watch?v=ZM6OO2lkxA4)"
   ]
  },
  {
   "cell_type": "markdown",
   "metadata": {},
   "source": [
    "# Install Power Fx kernel"
   ]
  },
  {
   "cell_type": "code",
   "execution_count": null,
   "metadata": {
    "dotnet_interactive": {
     "language": "csharp"
    }
   },
   "outputs": [],
   "source": [
    "#r \"nuget: PowerFx.NET.Interactive,2021.12.3.1\""
   ]
  },
  {
   "cell_type": "markdown",
   "metadata": {},
   "source": [
    "# Set Variable"
   ]
  },
  {
   "cell_type": "code",
   "execution_count": null,
   "metadata": {
    "dotnet_interactive": {
     "language": "csharp"
    }
   },
   "outputs": [],
   "source": [
    "#!powerfx\n",
    "Set(environment, \".NET Interactive\")"
   ]
  },
  {
   "cell_type": "markdown",
   "metadata": {},
   "source": [
    "# Set Table"
   ]
  },
  {
   "cell_type": "code",
   "execution_count": null,
   "metadata": {
    "dotnet_interactive": {
     "language": "csharp"
    }
   },
   "outputs": [],
   "source": [
    "#!powerfx\n",
    "ClearCollect( Products,\n",
    "    Table(\n",
    "        { Product: \"Widget\",    'Quantity Requested': 6,  'Quantity Available': 3 },\n",
    "        { Product: \"Gadget\",    'Quantity Requested': 10, 'Quantity Available': 20 },\n",
    "        { Product: \"Gizmo\",     'Quantity Requested': 4,  'Quantity Available': 11 },\n",
    "        { Product: \"Apparatus\", 'Quantity Requested': 7,  'Quantity Available': 6 }\n",
    "    )\n",
    ");"
   ]
  },
  {
   "cell_type": "markdown",
   "metadata": {},
   "source": [
    "# Run Multiple Formulas"
   ]
  },
  {
   "cell_type": "code",
   "execution_count": null,
   "metadata": {
    "dotnet_interactive": {
     "language": "csharp"
    }
   },
   "outputs": [],
   "source": [
    "#!powerfx\n",
    "Set(varInput, ForAll( [\"4\"], Sqrt( Value ) ));\n",
    "Sequence(4);\n",
    "First(varInput);"
   ]
  },
  {
   "cell_type": "markdown",
   "metadata": {},
   "source": [
    "# Filtering"
   ]
  },
  {
   "cell_type": "code",
   "execution_count": null,
   "metadata": {
    "dotnet_interactive": {
     "language": "csharp"
    }
   },
   "outputs": [],
   "source": [
    "#!powerfx\n",
    "ClearCollect( Products,\n",
    "    Table(\n",
    "        { Product: \"Widget\",    'Quantity Requested': 6,  'Quantity Available': 3 },\n",
    "        { Product: \"Gadget\",    'Quantity Requested': 10, 'Quantity Available': 20 },\n",
    "        { Product: \"Gizmo\",     'Quantity Requested': 4,  'Quantity Available': 11 },\n",
    "        { Product: \"Apparatus\", 'Quantity Requested': 7,  'Quantity Available': 6 }\n",
    "    )\n",
    ");\n",
    "First(Products);\n",
    "AddColumns( Filter( Products, 'Quantity Requested' > 'Quantity Available' ), \"Quantity To Order\", 'Quantity Requested' - 'Quantity Available');"
   ]
  },
  {
   "cell_type": "markdown",
   "metadata": {},
   "source": [
    "# Query current state"
   ]
  },
  {
   "cell_type": "code",
   "execution_count": null,
   "metadata": {
    "dotnet_interactive": {
     "language": "csharp"
    }
   },
   "outputs": [],
   "source": [
    "#!powerfx\n",
    "?"
   ]
  },
  {
   "cell_type": "markdown",
   "metadata": {},
   "source": [
    "# Create variables in C#"
   ]
  },
  {
   "cell_type": "code",
   "execution_count": null,
   "metadata": {
    "dotnet_interactive": {
     "language": "csharp"
    }
   },
   "outputs": [],
   "source": [
    "using System.Collections.Generic;\n",
    "\n",
    "var x = new List<string>(new[]{\"a\"});\n",
    "var today = DateTime.Now;"
   ]
  },
  {
   "cell_type": "markdown",
   "metadata": {},
   "source": [
    "# Use variables from C# in Power Fx"
   ]
  },
  {
   "cell_type": "code",
   "execution_count": null,
   "metadata": {
    "dotnet_interactive": {
     "language": "csharp"
    }
   },
   "outputs": [],
   "source": [
    "#!powerfx\n",
    "#!share x --from csharp\n",
    "#!share today --from csharp\n",
    "Set(varAlphabets, x);\n",
    "Set(varToday, today);"
   ]
  },
  {
   "cell_type": "markdown",
   "metadata": {},
   "source": [
    "# Set variables in Power Fx"
   ]
  },
  {
   "cell_type": "code",
   "execution_count": null,
   "metadata": {
    "dotnet_interactive": {
     "language": "csharp"
    }
   },
   "outputs": [],
   "source": [
    "#!powerfx\n",
    "Set(varText, \"Hello\");"
   ]
  },
  {
   "cell_type": "markdown",
   "metadata": {},
   "source": [
    "# Use variable from Power Fx in C#"
   ]
  },
  {
   "cell_type": "code",
   "execution_count": null,
   "metadata": {
    "dotnet_interactive": {
     "language": "csharp"
    }
   },
   "outputs": [],
   "source": [
    "#!share varText --from powerfx\n",
    "var output = varText;\n",
    "Console.WriteLine(output);"
   ]
  },
  {
   "cell_type": "markdown",
   "metadata": {},
   "source": [
    "# Creating new Functions in Power Fx"
   ]
  },
  {
   "cell_type": "markdown",
   "metadata": {},
   "source": [
    "You can create new Functions by extending a new class from `ReflectionFunction`. The classname should end with `Function`. Let us implement three Functions:\n",
    "\n",
    "1. Slice - This is similar to JavaScript `Array.slice` function. It accepts 3 parameters: The Table to slice records from, starting index of the slice, and number of items to slice. You can pass `Blank`, if you want all the items from the starting index of slice.\n",
    "2. Keys - This is similar to `Object.keys` function. It returns all the Object (`RecordValue`) values as a Table.\n",
    "3. Zip - This Function combines two Tables and returns a new Table with all properties in both the Tables."
   ]
  },
  {
   "cell_type": "code",
   "execution_count": null,
   "metadata": {
    "dotnet_interactive": {
     "language": "csharp"
    }
   },
   "outputs": [],
   "source": [
    "using Microsoft.PowerFx;\n",
    "using Microsoft.PowerFx.Core.Functions;\n",
    "using Microsoft.PowerFx.Core.Localization;\n",
    "using Microsoft.PowerFx.Core.Public.Types;\n",
    "using Microsoft.PowerFx.Core.Public.Values;\n",
    "using Microsoft.PowerFx.Core.Types;\n",
    "using Microsoft.PowerFx.Core.Utils;\n",
    "using PowerFxDotnetInteractive;\n",
    "\n",
    "private class SliceFunction : ReflectionFunction\n",
    "{\n",
    "    //2nd argument to base constructor is return type of Execute method. The subsequent ones are the arguments to the Execute method.\n",
    "    public SliceFunction() : base(\"Slice\", new TableType(), new TableType(), FormulaType.Number, FormulaType.Number)\n",
    "    {\n",
    "    }\n",
    "\n",
    "    public TableValue Execute(TableValue source, NumberValue skipCount, FormulaValue takeCount)\n",
    "    {\n",
    "        if(takeCount is NumberValue)\n",
    "            return FormulaValue.TableFromRecords(source.Rows.Skip((int)skipCount.Value).Select(x=>x.Value).Take((int)(takeCount as NumberValue).Value).ToArray());\n",
    "        return FormulaValue.TableFromRecords(source.Rows.Skip((int)skipCount.Value).Select(x=>x.Value).ToArray());\n",
    "    }    \n",
    "}\n",
    "\n",
    "private class KeysFunction : ReflectionFunction\n",
    "{\n",
    "    //2nd argument to base constructor is return type of Execute method. The subsequent ones are the arguments to the Execute method.\n",
    "    public KeysFunction() : base(\"Keys\", new TableType(), new RecordType())\n",
    "    {\n",
    "    }\n",
    "\n",
    "    public TableValue Execute(RecordValue source) => FormulaValue.NewTable(source.Fields.Select(x => x.Name));\n",
    "}\n",
    "\n",
    "private class ZipFunction : ReflectionFunction\n",
    "{\n",
    "    //2nd argument to base constructor is return type of Execute method. The subsequent ones are the arguments to the Execute method.\n",
    "    public ZipFunction() : base(\"Zip\", new TableType(), new TableType(), new TableType())\n",
    "    {\n",
    "    }\n",
    "\n",
    "    public TableValue Execute(TableValue source1, TableValue source2)\n",
    "    {\n",
    "        //zip both the arrays\n",
    "        var zippedArray = source1.Rows.Zip(source2.Rows, \n",
    "            (x, y) => {\n",
    "                return TableValue.RecordFromFields(Enumerable.Concat(x.Value.Fields, y.Value.Fields));\n",
    "            });\n",
    "        return FormulaValue.NewTable(zippedArray);        \n",
    "    }\n",
    "}"
   ]
  },
  {
   "cell_type": "markdown",
   "metadata": {},
   "source": [
    "Now let us add the function to the Power Fx Engine. We obtain the instance of `RecalcEngine` from the Power Fx kernel and add our custom Function."
   ]
  },
  {
   "cell_type": "code",
   "execution_count": null,
   "metadata": {
    "dotnet_interactive": {
     "language": "csharp"
    }
   },
   "outputs": [],
   "source": [
    "PowerFxKernel.GetRecalcEngine().AddFunction(new SliceFunction());\n",
    "PowerFxKernel.GetRecalcEngine().AddFunction(new KeysFunction());\n",
    "PowerFxKernel.GetRecalcEngine().AddFunction(new ZipFunction());"
   ]
  },
  {
   "cell_type": "markdown",
   "metadata": {},
   "source": [
    "We can verify that our new Functions have been added to the list of available Functions."
   ]
  },
  {
   "cell_type": "code",
   "execution_count": null,
   "metadata": {
    "dotnet_interactive": {
     "language": "csharp"
    }
   },
   "outputs": [],
   "source": [
    "PowerFxKernel.GetRecalcEngine().GetAllFunctionNames().Where(x=>x == \"Keys\" || x == \"Slice\" || x == \"Zip\")"
   ]
  },
  {
   "cell_type": "markdown",
   "metadata": {},
   "source": [
    "Now that our new Functions have been added to the `RecalcEngine`, let us use them."
   ]
  },
  {
   "cell_type": "markdown",
   "metadata": {},
   "source": [
    "## Slice Function"
   ]
  },
  {
   "cell_type": "code",
   "execution_count": null,
   "metadata": {
    "dotnet_interactive": {
     "language": "csharp"
    }
   },
   "outputs": [],
   "source": [
    "#!powerfx\n",
    "Set(MovieTable, Table({ Name: \"Iron Man\", Rating: 10 }, { Name: \"Captain America\", Rating: 10 }, { Name: \"Dark Knight\", Rating: 10 }));\n",
    "Slice(MovieTable, 1, 1);\n",
    "Slice(MovieTable, 1, Blank());"
   ]
  },
  {
   "cell_type": "markdown",
   "metadata": {},
   "source": [
    "## Keys Function"
   ]
  },
  {
   "cell_type": "code",
   "execution_count": null,
   "metadata": {
    "dotnet_interactive": {
     "language": "csharp"
    }
   },
   "outputs": [],
   "source": [
    "#!powerfx\n",
    "Set(varPerson, { FirstName: \"Max\", LastName: \"Power\" });\n",
    "Keys(varPerson);"
   ]
  },
  {
   "cell_type": "markdown",
   "metadata": {},
   "source": [
    "## Zip Function"
   ]
  },
  {
   "cell_type": "code",
   "execution_count": null,
   "metadata": {
    "dotnet_interactive": {
     "language": "csharp"
    }
   },
   "outputs": [],
   "source": [
    "#!powerfx\n",
    "Set(CategoryTable, Table({ Category: \"Fruit\", Color: \"Red\" }, { Category: \"Vegetable\", Color: \"Green\" }));\n",
    "Set(FruitAndVegTable, Table({ Name: \"Apple\" },{ Name: \"Cucumber\" }));\n",
    "Zip(CategoryTable, FruitAndVegTable);"
   ]
  }
 ],
 "metadata": {
  "kernelspec": {
   "display_name": ".NET (C#)",
   "language": "C#",
   "name": ".net-csharp"
  },
  "language_info": {
   "name": "C#"
  }
 },
 "nbformat": 4,
 "nbformat_minor": 2
}
